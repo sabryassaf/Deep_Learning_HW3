{
 "cells": [
  {
   "cell_type": "markdown",
   "metadata": {},
   "source": [
    "In this part we will learn about working with text sequences using recurrent neural networks.\n",
    "We'll go from a raw text file all the way to a fully trained GRU-RNN model and generate works of art!"
   ]
  },
  {
   "cell_type": "markdown",
   "metadata": {},
   "source": [
    "$$\n",
    "\\newcommand{\\mat}[1]{\\boldsymbol {#1}}\n",
    "\\newcommand{\\mattr}[1]{\\boldsymbol {#1}^\\top}\n",
    "\\newcommand{\\matinv}[1]{\\boldsymbol {#1}^{-1}}\n",
    "\\newcommand{\\vec}[1]{\\boldsymbol {#1}}\n",
    "\\newcommand{\\vectr}[1]{\\boldsymbol {#1}^\\top}\n",
    "\\newcommand{\\rvar}[1]{\\mathrm {#1}}\n",
    "\\newcommand{\\rvec}[1]{\\boldsymbol{\\mathrm{#1}}}\n",
    "\\newcommand{\\diag}{\\mathop{\\mathrm {diag}}}\n",
    "\\newcommand{\\set}[1]{\\mathbb {#1}}\n",
    "\\newcommand{\\norm}[1]{\\left\\lVert#1\\right\\rVert}\n",
    "\\newcommand{\\pderiv}[2]{\\frac{\\partial #1}{\\partial #2}}\n",
    "\\newcommand{\\bb}[1]{\\boldsymbol{#1}}\n",
    "$$\n",
    "# Part 1: Sequence Models\n",
    "<a id=part1></a>"
   ]
  },
  {
   "cell_type": "code",
   "execution_count": 1,
   "metadata": {},
   "outputs": [],
   "source": [
    "import unittest\n",
    "import os\n",
    "import sys\n",
    "import pathlib\n",
    "import urllib\n",
    "import shutil\n",
    "import re\n",
    "\n",
    "import numpy as np\n",
    "import torch\n",
    "import matplotlib.pyplot as plt\n",
    "\n",
    "%load_ext autoreload\n",
    "%autoreload 2"
   ]
  },
  {
   "cell_type": "code",
   "execution_count": 2,
   "metadata": {},
   "outputs": [
    {
     "name": "stdout",
     "output_type": "stream",
     "text": [
      "CUDA available: True\n",
      "CUDA device count: 1\n",
      "PyTorch version: 2.4.1\n"
     ]
    }
   ],
   "source": [
    "import torch\n",
    "print(f\"CUDA available: {torch.cuda.is_available()}\")\n",
    "print(f\"CUDA device count: {torch.cuda.device_count()}\")\n",
    "print(f\"PyTorch version: {torch.__version__}\")"
   ]
  },
  {
   "cell_type": "code",
   "execution_count": 3,
   "metadata": {},
   "outputs": [
    {
     "name": "stdout",
     "output_type": "stream",
     "text": [
      "Using device: cuda\n"
     ]
    }
   ],
   "source": [
    "test = unittest.TestCase()\n",
    "plt.rcParams.update({'font.size': 12})\n",
    "device = torch.device('cuda' if torch.cuda.is_available() else 'cpu')\n",
    "print('Using device:', device)"
   ]
  },
  {
   "cell_type": "markdown",
   "metadata": {},
   "source": [
    "## Text generation with a char-level RNN\n",
    "<a id=part1_1></a>"
   ]
  },
  {
   "cell_type": "markdown",
   "metadata": {},
   "source": [
    "### Obtaining the corpus\n",
    "<a id=part1_2></a>"
   ]
  },
  {
   "cell_type": "markdown",
   "metadata": {},
   "source": [
    "Let's begin by downloading a corpus containing all the works of William Shakespeare.\n",
    "Since he was very prolific, this corpus is fairly large and will provide us with enough data for\n",
    "obtaining impressive results."
   ]
  },
  {
   "cell_type": "code",
   "execution_count": 4,
   "metadata": {},
   "outputs": [
    {
     "name": "stdout",
     "output_type": "stream",
     "text": [
      "Corpus file /home/sleemann/.pytorch-datasets/shakespeare.txt exists, skipping download.\n"
     ]
    }
   ],
   "source": [
    "CORPUS_URL = 'https://github.com/cedricdeboom/character-level-rnn-datasets/raw/master/datasets/shakespeare.txt'\n",
    "DATA_DIR = pathlib.Path.home().joinpath('.pytorch-datasets')\n",
    "\n",
    "def download_corpus(out_path=DATA_DIR, url=CORPUS_URL, force=False):\n",
    "    pathlib.Path(out_path).mkdir(exist_ok=True)\n",
    "    out_filename = os.path.join(out_path, os.path.basename(url))\n",
    "    \n",
    "    if os.path.isfile(out_filename) and not force:\n",
    "        print(f'Corpus file {out_filename} exists, skipping download.')\n",
    "    else:\n",
    "        print(f'Downloading {url}...')\n",
    "        with urllib.request.urlopen(url) as response, open(out_filename, 'wb') as out_file:\n",
    "            shutil.copyfileobj(response, out_file)\n",
    "        print(f'Saved to {out_filename}.')\n",
    "    return out_filename\n",
    "    \n",
    "corpus_path = download_corpus()"
   ]
  },
  {
   "cell_type": "markdown",
   "metadata": {},
   "source": [
    "Load the text into memory and print a snippet:"
   ]
  },
  {
   "cell_type": "code",
   "execution_count": 5,
   "metadata": {},
   "outputs": [
    {
     "name": "stdout",
     "output_type": "stream",
     "text": [
      "Corpus length: 6347703 chars\n",
      "ALLS WELL THAT ENDS WELL\n",
      "\n",
      "by William Shakespeare\n",
      "\n",
      "Dramatis Personae\n",
      "\n",
      "  KING OF FRANCE\n",
      "  THE DUKE OF FLORENCE\n",
      "  BERTRAM, Count of Rousillon\n",
      "  LAFEU, an old lord\n",
      "  PAROLLES, a follower of Bertram\n",
      "  TWO FRENCH LORDS, serving with Bertram\n",
      "\n",
      "  STEWARD, Servant to the Countess of Rousillon\n",
      "  LAVACHE, a clown and Servant to the Countess of Rousillon\n",
      "  A PAGE, Servant to the Countess of Rousillon\n",
      "\n",
      "  COUNTESS OF ROUSILLON, mother to Bertram\n",
      "  HELENA, a gentlewoman protected by the Countess\n",
      "  A WIDOW OF FLORENCE.\n",
      "  DIANA, daughter to the Widow\n",
      "\n",
      "  VIOLENTA, neighbour and friend to the Widow\n",
      "  MARIANA, neighbour and friend to the Widow\n",
      "\n",
      "  Lords, Officers, Soldiers, etc., French and Florentine  \n",
      "\n",
      "SCENE:\n",
      "Rousillon; Paris; Florence; Marseilles\n",
      "\n",
      "ACT I. SCENE 1.\n",
      "Rousillon. The COUNT'S palace\n",
      "\n",
      "Enter BERTRAM, the COUNTESS OF ROUSILLON, HELENA, and LAFEU, all in black\n",
      "\n",
      "  COUNTESS. In delivering my son from me, I bury a second husband.\n",
      "  BERTRAM. And I in going, madam, weep o'er my father's death anew;\n",
      "    but I must attend his Majesty's command, to whom I am now in\n",
      "    ward, evermore in subjection.\n",
      "  LAFEU. You shall find of the King a husband, madam; you, sir, a\n",
      "    father. He that so generally is at all times good must of\n",
      "    \n"
     ]
    }
   ],
   "source": [
    "with open(corpus_path, 'r', encoding='utf-8') as f:\n",
    "    corpus = f.read()\n",
    "\n",
    "print(f'Corpus length: {len(corpus)} chars')\n",
    "print(corpus[7:1234])"
   ]
  },
  {
   "cell_type": "markdown",
   "metadata": {},
   "source": [
    "### Data Preprocessing\n",
    "<a id=part1_3></a>"
   ]
  },
  {
   "cell_type": "markdown",
   "metadata": {},
   "source": [
    "The first thing we'll need is to map from each unique character in the corpus to an index that will represent it in our learning process.\n",
    "\n",
    "**TODO**: Implement the `char_maps()` function in the `hw3/charnn.py` module."
   ]
  },
  {
   "cell_type": "code",
   "execution_count": 6,
   "metadata": {},
   "outputs": [
    {
     "name": "stdout",
     "output_type": "stream",
     "text": [
      "{'\\n': 0, ' ': 1, '!': 2, '\"': 3, '$': 4, '&': 5, \"'\": 6, '(': 7, ')': 8, ',': 9, '-': 10, '.': 11, '0': 12, '1': 13, '2': 14, '3': 15, '4': 16, '5': 17, '6': 18, '7': 19, '8': 20, '9': 21, ':': 22, ';': 23, '<': 24, '?': 25, 'A': 26, 'B': 27, 'C': 28, 'D': 29, 'E': 30, 'F': 31, 'G': 32, 'H': 33, 'I': 34, 'J': 35, 'K': 36, 'L': 37, 'M': 38, 'N': 39, 'O': 40, 'P': 41, 'Q': 42, 'R': 43, 'S': 44, 'T': 45, 'U': 46, 'V': 47, 'W': 48, 'X': 49, 'Y': 50, 'Z': 51, '[': 52, ']': 53, '_': 54, 'a': 55, 'b': 56, 'c': 57, 'd': 58, 'e': 59, 'f': 60, 'g': 61, 'h': 62, 'i': 63, 'j': 64, 'k': 65, 'l': 66, 'm': 67, 'n': 68, 'o': 69, 'p': 70, 'q': 71, 'r': 72, 's': 73, 't': 74, 'u': 75, 'v': 76, 'w': 77, 'x': 78, 'y': 79, 'z': 80, '}': 81, '\\ufeff': 82}\n"
     ]
    }
   ],
   "source": [
    "import hw3.charnn as charnn\n",
    "\n",
    "char_to_idx, idx_to_char = charnn.char_maps(corpus)\n",
    "print(char_to_idx)\n",
    "\n",
    "test.assertEqual(len(char_to_idx), len(idx_to_char))\n",
    "test.assertSequenceEqual(list(char_to_idx.keys()), list(idx_to_char.values()))\n",
    "test.assertSequenceEqual(list(char_to_idx.values()), list(idx_to_char.keys()))"
   ]
  },
  {
   "cell_type": "markdown",
   "metadata": {},
   "source": [
    "Seems we have some strange characters in the corpus that are very rare and are probably due to mistakes.\n",
    "To reduce the length of each tensor we'll need to later represent our chars, it's best to remove them.\n",
    "\n",
    "**TODO**: Implement the `remove_chars()` function in the `hw3/charnn.py` module."
   ]
  },
  {
   "cell_type": "code",
   "execution_count": 7,
   "metadata": {},
   "outputs": [
    {
     "name": "stdout",
     "output_type": "stream",
     "text": [
      "Removed 34 chars\n"
     ]
    }
   ],
   "source": [
    "corpus, n_removed = charnn.remove_chars(corpus, ['}','$','_','<','\\ufeff'])\n",
    "print(f'Removed {n_removed} chars')\n",
    "\n",
    "# After removing the chars, re-create the mappings\n",
    "char_to_idx, idx_to_char = charnn.char_maps(corpus)"
   ]
  },
  {
   "cell_type": "markdown",
   "metadata": {},
   "source": [
    "The next thing we need is an **embedding** of the chracters.\n",
    "An embedding is a representation of each token from the sequence as a tensor.\n",
    "For a char-level RNN, our tokens will be chars and we can thus use the simplest possible embedding: encode each char as a **one-hot** tensor. In other words, each char will be represented\n",
    "as a tensor whos length is the total number of unique chars (`V`) which contains all zeros except at the index\n",
    "corresponding to that specific char.\n",
    "\n",
    "**TODO**: Implement the functions `chars_to_onehot()` and `onehot_to_chars()` in the `hw3/charnn.py` module."
   ]
  },
  {
   "cell_type": "code",
   "execution_count": 8,
   "metadata": {},
   "outputs": [
    {
     "name": "stdout",
     "output_type": "stream",
     "text": [
      "brine a maiden can season her praise in.\n",
      "   \n",
      "tensor([[0, 0, 0, 0, 0, 0, 0, 0, 0, 0, 0, 0, 0, 0, 0, 0, 0, 0, 0, 0, 0, 0, 0, 0,\n",
      "         0, 0, 0, 0, 0, 0, 0, 0, 0, 0, 0, 0, 0, 0, 0, 0, 0, 0, 0, 0, 0, 0, 0, 0,\n",
      "         0, 0, 0, 0, 0, 1, 0, 0, 0, 0, 0, 0, 0, 0, 0, 0, 0, 0, 0, 0, 0, 0, 0, 0,\n",
      "         0, 0, 0, 0, 0, 0],\n",
      "        [0, 0, 0, 0, 0, 0, 0, 0, 0, 0, 0, 0, 0, 0, 0, 0, 0, 0, 0, 0, 0, 0, 0, 0,\n",
      "         0, 0, 0, 0, 0, 0, 0, 0, 0, 0, 0, 0, 0, 0, 0, 0, 0, 0, 0, 0, 0, 0, 0, 0,\n",
      "         0, 0, 0, 0, 0, 0, 0, 0, 0, 0, 0, 0, 0, 0, 0, 0, 0, 0, 0, 0, 0, 1, 0, 0,\n",
      "         0, 0, 0, 0, 0, 0],\n",
      "        [0, 0, 0, 0, 0, 0, 0, 0, 0, 0, 0, 0, 0, 0, 0, 0, 0, 0, 0, 0, 0, 0, 0, 0,\n",
      "         0, 0, 0, 0, 0, 0, 0, 0, 0, 0, 0, 0, 0, 0, 0, 0, 0, 0, 0, 0, 0, 0, 0, 0,\n",
      "         0, 0, 0, 0, 0, 0, 0, 0, 0, 0, 0, 0, 1, 0, 0, 0, 0, 0, 0, 0, 0, 0, 0, 0,\n",
      "         0, 0, 0, 0, 0, 0]], dtype=torch.int8)\n"
     ]
    }
   ],
   "source": [
    "# Wrap the actual embedding functions for calling convenience\n",
    "def embed(text):\n",
    "    return charnn.chars_to_onehot(text, char_to_idx)\n",
    "\n",
    "def unembed(embedding):\n",
    "    return charnn.onehot_to_chars(embedding, idx_to_char)\n",
    "\n",
    "text_snippet = corpus[3104:3148]\n",
    "print(text_snippet)\n",
    "print(embed(text_snippet[0:3]))\n",
    "\n",
    "test.assertEqual(text_snippet, unembed(embed(text_snippet)))\n",
    "test.assertEqual(embed(text_snippet).dtype, torch.int8)"
   ]
  },
  {
   "cell_type": "markdown",
   "metadata": {},
   "source": [
    "### Dataset Creation\n",
    "<a id=part1_4></a>"
   ]
  },
  {
   "cell_type": "markdown",
   "metadata": {},
   "source": [
    "We wish to train our model to generate text by constantly predicting what the next char should be based on the past.\n",
    "To that end we'll need to train our recurrent network in a way similar to a classification task. At each timestep, we input a char and set the expected output (label) to be the next char in the original sequence.\n",
    "\n",
    "We will split our corpus into shorter sequences of length `S` chars (see question below).\n",
    "Each **sample** we provide our model with will therefore be a tensor of shape `(S,V)` where `V` is the embedding dimension. Our model will operate sequentially on each char in the sequence.\n",
    "For each sample, we'll also need a **label**. This is simply another sequence, shifted by one char so that the label of each char is the next char in the corpus."
   ]
  },
  {
   "cell_type": "markdown",
   "metadata": {},
   "source": [
    "**TODO**: Implement the `chars_to_labelled_samples()` function in the `hw3/charnn.py` module."
   ]
  },
  {
   "cell_type": "code",
   "execution_count": 9,
   "metadata": {},
   "outputs": [
    {
     "name": "stdout",
     "output_type": "stream",
     "text": [
      "samples shape: torch.Size([99182, 64, 78])\n",
      "labels shape: torch.Size([99182, 64])\n"
     ]
    }
   ],
   "source": [
    "# Create dataset of sequences\n",
    "seq_len = 64\n",
    "vocab_len = len(char_to_idx)\n",
    "\n",
    "# Create labelled samples\n",
    "samples, labels = charnn.chars_to_labelled_samples(corpus, char_to_idx, seq_len, device)\n",
    "print(f'samples shape: {samples.shape}')\n",
    "print(f'labels shape: {labels.shape}')\n",
    "\n",
    "# Test shapes\n",
    "num_samples = (len(corpus) - 1) // seq_len\n",
    "test.assertEqual(samples.shape, (num_samples, seq_len, vocab_len))\n",
    "test.assertEqual(labels.shape, (num_samples, seq_len))\n",
    "\n",
    "# Test content\n",
    "for _ in range(1000):\n",
    "    # random sample\n",
    "    i = np.random.randint(num_samples, size=(1,))[0]\n",
    "    # Compare to corpus\n",
    "    test.assertEqual(unembed(samples[i]), corpus[i*seq_len:(i+1)*seq_len], msg=f\"content mismatch in sample {i}\")\n",
    "    # Compare to labels\n",
    "    sample_text = unembed(samples[i])\n",
    "    label_text = str.join('', [idx_to_char[j.item()] for j in labels[i]])\n",
    "    test.assertEqual(sample_text[1:], label_text[0:-1], msg=f\"label mismatch in sample {i}\")"
   ]
  },
  {
   "cell_type": "markdown",
   "metadata": {},
   "source": [
    "Let's print a few consecutive samples. You should see that the text continues between them."
   ]
  },
  {
   "cell_type": "code",
   "execution_count": 10,
   "metadata": {},
   "outputs": [
    {
     "name": "stdout",
     "output_type": "stream",
     "text": [
      "sample [75340]:\n",
      "\t. Stand, stand, thou Greek; thou art a goodly mark. No? wilt\n",
      "sample [75341]:\n",
      "\tthou not? I like thy armour well; I'll frush it and unlock\n",
      "sample [75342]:\n",
      "\tthe rivets all But I'll be master of it. Wilt thou not, beas\n",
      "sample [75343]:\n",
      "\tt, abide? Why then, fly on; I'll hunt thee for thy hide.\n",
      "sample [75344]:\n",
      "\tExeunt ACT V. SCENE 7. Another part of the plain Ente\n"
     ]
    }
   ],
   "source": [
    "import re\n",
    "import random\n",
    "\n",
    "i = random.randrange(num_samples-5)\n",
    "for i in range(i, i+5):\n",
    "    test.assertEqual(len(samples[i]), seq_len)\n",
    "    s = re.sub(r'\\s+', ' ', unembed(samples[i])).strip()\n",
    "    print(f'sample [{i}]:\\n\\t{s}')"
   ]
  },
  {
   "cell_type": "markdown",
   "metadata": {},
   "source": [
    "As usual, instead of feeding one sample at a time into our model's forward we'll work with **batches** of samples. This means that at every timestep, our model will operate on a batch of chars that are from **different sequences**.\n",
    "Effectively this will allow us to parallelize training our model by dong matrix-matrix multiplications\n",
    "instead of matrix-vector during the forward pass."
   ]
  },
  {
   "cell_type": "markdown",
   "metadata": {},
   "source": [
    "An important nuance is that we need the batches to be **contiguous**, i.e. sample $k$ in batch $j$ should continue sample $k$ from batch $j-1$.\n",
    "The following figure illustrates this:\n",
    "\n",
    "<img src=\"imgs/rnn-batching.png\"/>\n",
    "\n",
    "If we naïvely take consecutive samples into batches, e.g. `[0,1,...,B-1]`, `[B,B+1,...,2B-1]` and so on, we won't have contiguous\n",
    "sequences at the same index between adjacent batches.\n",
    "\n",
    "To accomplish this we need to tell our `DataLoader` which samples to combine together into one batch.\n",
    "We do this by implementing a custom PyTorch `Sampler`, and providing it to our `DataLoader`."
   ]
  },
  {
   "cell_type": "markdown",
   "metadata": {},
   "source": [
    "**TODO**: Implement the `SequenceBatchSampler` class in the `hw3/charnn.py` module."
   ]
  },
  {
   "cell_type": "code",
   "execution_count": 11,
   "metadata": {},
   "outputs": [
    {
     "name": "stdout",
     "output_type": "stream",
     "text": [
      "sampler_idx =\n",
      " [0, 3, 6, 9, 12, 15, 18, 21, 24, 27, 1, 4, 7, 10, 13, 16, 19, 22, 25, 28, 2, 5, 8, 11, 14, 17, 20, 23, 26, 29]\n"
     ]
    },
    {
     "name": "stderr",
     "output_type": "stream",
     "text": [
      "/home/sleemann/.local/share/mamba/envs/cs236781-hw/lib/python3.8/site-packages/torch/utils/data/sampler.py:65: UserWarning: `data_source` argument is not used and will be removed in 2.2.0.You may still have custom implementation that utilizes it.\n",
      "  warnings.warn(\"`data_source` argument is not used and will be removed in 2.2.0.\"\n"
     ]
    }
   ],
   "source": [
    "from hw3.charnn import SequenceBatchSampler\n",
    "\n",
    "sampler = SequenceBatchSampler(dataset=range(32), batch_size=10)\n",
    "sampler_idx = list(sampler)\n",
    "print('sampler_idx =\\n', sampler_idx)\n",
    "\n",
    "# Test the Sampler\n",
    "test.assertEqual(len(sampler_idx), 30)\n",
    "batch_idx = np.array(sampler_idx).reshape(-1, 10)\n",
    "for k in range(10):\n",
    "    test.assertEqual(np.diff(batch_idx[:, k], n=2).item(), 0)"
   ]
  },
  {
   "cell_type": "markdown",
   "metadata": {},
   "source": [
    "Even though we're working with sequences, we can still use the standard PyTorch `Dataset`/`DataLoader` combo.\n",
    "For the dataset we can use a built-in class, `TensorDataset` to return tuples of `(sample, label)`\n",
    "from the `samples` and `labels` tensors we created above.\n",
    "The `DataLoader` will be provided with our custom `Sampler` so that it generates appropriate batches."
   ]
  },
  {
   "cell_type": "code",
   "execution_count": 12,
   "metadata": {},
   "outputs": [],
   "source": [
    "import torch.utils.data\n",
    "\n",
    "# Create DataLoader returning batches of samples.\n",
    "batch_size = 32\n",
    "\n",
    "ds_corpus = torch.utils.data.TensorDataset(samples, labels)\n",
    "sampler_corpus = SequenceBatchSampler(ds_corpus, batch_size)\n",
    "dl_corpus = torch.utils.data.DataLoader(ds_corpus, batch_size=batch_size, sampler=sampler_corpus, shuffle=False)"
   ]
  },
  {
   "cell_type": "markdown",
   "metadata": {},
   "source": [
    "Let's see what that gives us:"
   ]
  },
  {
   "cell_type": "code",
   "execution_count": 13,
   "metadata": {},
   "outputs": [
    {
     "name": "stdout",
     "output_type": "stream",
     "text": [
      "num batches: 3100\n",
      "shape of a batch of samples: torch.Size([32, 64, 78])\n",
      "shape of a batch of labels: torch.Size([32, 64])\n"
     ]
    }
   ],
   "source": [
    "print(f'num batches: {len(dl_corpus)}')\n",
    "\n",
    "x0, y0 = next(iter(dl_corpus))\n",
    "print(f'shape of a batch of samples: {x0.shape}')\n",
    "print(f'shape of a batch of labels: {y0.shape}')"
   ]
  },
  {
   "cell_type": "markdown",
   "metadata": {},
   "source": [
    "Now lets look at the same sample index from multiple batches taken from our corpus."
   ]
  },
  {
   "cell_type": "code",
   "execution_count": 14,
   "metadata": {},
   "outputs": [
    {
     "name": "stdout",
     "output_type": "stream",
     "text": [
      "=== batch 0, sample 10 (torch.Size([64, 78])): ===\n",
      "\tarn What late misfortune is befall'n King Edward? RIVERS.\n",
      "=== batch 1, sample 10 (torch.Size([64, 78])): ===\n",
      "\tWhat, loss of some pitch'd battle against Warwick? QUEEN ELIZA\n",
      "=== batch 2, sample 10 (torch.Size([64, 78])): ===\n",
      "\tBETH. No, but the loss of his own royal person. RIVERS. Then i\n",
      "=== batch 3, sample 10 (torch.Size([64, 78])): ===\n",
      "\ts my sovereign slain? QUEEN ELIZABETH. Ay, almost slain, for h\n",
      "=== batch 4, sample 10 (torch.Size([64, 78])): ===\n",
      "\te is taken prisoner; Either betray'd by falsehood of his gua\n"
     ]
    }
   ],
   "source": [
    "# Check that sentences in in same index of different batches complete each other.\n",
    "k = random.randrange(batch_size)\n",
    "for j, (X, y) in enumerate(dl_corpus,):\n",
    "    print(f'=== batch {j}, sample {k} ({X[k].shape}): ===')\n",
    "    s = re.sub(r'\\s+', ' ', unembed(X[k])).strip()\n",
    "    print(f'\\t{s}')\n",
    "    if j==4: break"
   ]
  },
  {
   "cell_type": "markdown",
   "metadata": {},
   "source": [
    "### Model Implementation\n",
    "<a id=part1_5></a>"
   ]
  },
  {
   "cell_type": "markdown",
   "metadata": {},
   "source": [
    "Finally, our data set is ready so we can focus on our model.\n",
    "\n",
    "We'll implement here is a multilayer gated recurrent unit (GRU) model, with dropout.\n",
    "This model is a type of RNN which performs similar to the well-known LSTM model,\n",
    "but it's somewhat easier to train because it has less parameters.\n",
    "We'll modify the regular GRU slightly by applying dropout to\n",
    "the hidden states passed between layers of the model.\n",
    "\n",
    "The model accepts an input $\\mat{X}\\in\\set{R}^{S\\times V}$ containing a sequence of embedded chars.\n",
    "It returns an output $\\mat{Y}\\in\\set{R}^{S\\times V}$ of predictions for the next char and the final hidden state\n",
    "$\\mat{H}\\in\\set{R}^{L\\times H}$. Here $S$ is the sequence length, $V$ is the vocabulary size (number of unique chars), $L$ is the number of layers in the model and $H$ is the hidden dimension."
   ]
  },
  {
   "cell_type": "markdown",
   "metadata": {},
   "source": [
    "Mathematically, the model's forward function at layer $k\\in[1,L]$ and timestep $t\\in[1,S]$ can be described as\n",
    "\n",
    "$$\n",
    "\\begin{align}\n",
    "\\vec{z_t}^{[k]} &= \\sigma\\left(\\vec{x}^{[k]}_t {\\mattr{W}_{\\mathrm{xz}}}^{[k]} +\n",
    "    \\vec{h}_{t-1}^{[k]} {\\mattr{W}_{\\mathrm{hz}}}^{[k]} + \\vec{b}_{\\mathrm{z}}^{[k]}\\right) \\\\\n",
    "\\vec{r_t}^{[k]} &= \\sigma\\left(\\vec{x}^{[k]}_t {\\mattr{W}_{\\mathrm{xr}}}^{[k]} +\n",
    "    \\vec{h}_{t-1}^{[k]} {\\mattr{W}_{\\mathrm{hr}}}^{[k]} + \\vec{b}_{\\mathrm{r}}^{[k]}\\right) \\\\\n",
    "\\vec{g_t}^{[k]} &= \\tanh\\left(\\vec{x}^{[k]}_t {\\mattr{W}_{\\mathrm{xg}}}^{[k]} +\n",
    "    (\\vec{r_t}^{[k]}\\odot\\vec{h}_{t-1}^{[k]}) {\\mattr{W}_{\\mathrm{hg}}}^{[k]} + \\vec{b}_{\\mathrm{g}}^{[k]}\\right) \\\\\n",
    "\\vec{h_t}^{[k]} &= \\vec{z}^{[k]}_t \\odot \\vec{h}^{[k]}_{t-1} + \\left(1-\\vec{z}^{[k]}_t\\right)\\odot \\vec{g_t}^{[k]}\n",
    "\\end{align}\n",
    "$$"
   ]
  },
  {
   "cell_type": "markdown",
   "metadata": {},
   "source": [
    "The input to each layer is,\n",
    "$$\n",
    "\\mat{X}^{[k]} =\n",
    "\\begin{bmatrix}\n",
    "    {\\vec{x}_1}^{[k]} \\\\ \\vdots \\\\ {\\vec{x}_S}^{[k]}\n",
    "\\end{bmatrix} \n",
    "=\n",
    "\\begin{cases}\n",
    "    \\mat{X} & \\mathrm{if} ~k = 1~ \\\\\n",
    "    \\mathrm{dropout}_p \\left(\n",
    "    \\begin{bmatrix}\n",
    "        {\\vec{h}_1}^{[k-1]} \\\\ \\vdots \\\\ {\\vec{h}_S}^{[k-1]}\n",
    "    \\end{bmatrix} \\right) & \\mathrm{if} ~1 < k \\leq L+1~\n",
    "\\end{cases}.\n",
    "$$"
   ]
  },
  {
   "cell_type": "markdown",
   "metadata": {},
   "source": [
    "The output of the entire model is then,\n",
    "$$\n",
    "\\mat{Y} = \\mat{X}^{[L+1]} {\\mattr{W}_{\\mathrm{hy}}} + \\mat{B}_{\\mathrm{y}}\n",
    "$$"
   ]
  },
  {
   "cell_type": "markdown",
   "metadata": {},
   "source": [
    "and the final hidden state is\n",
    "$$\n",
    "\\mat{H} = \n",
    "\\begin{bmatrix}\n",
    "    {\\vec{h}_S}^{[1]} \\\\ \\vdots \\\\ {\\vec{h}_S}^{[L]}\n",
    "\\end{bmatrix}.\n",
    "$$"
   ]
  },
  {
   "cell_type": "markdown",
   "metadata": {},
   "source": [
    "Notes:\n",
    "- $t\\in[1,S]$ is the timestep, i.e. the current position within the sequence of each sample.\n",
    "- $\\vec{x}_t^{[k]}$ is the input of layer $k$ at timestep $t$, respectively.\n",
    "- The outputs of the **last layer** $\\vec{y}_t^{[L]}$, are the predicted next characters for every input char.\n",
    "  These are similar to class scores in classification tasks.\n",
    "- The hidden states at the **last timestep**, $\\vec{h}_S^{[k]}$, are the final hidden state returned from the model.\n",
    "- $\\sigma(\\cdot)$ is the sigmoid function, i.e. $\\sigma(\\vec{z}) = 1/(1+e^{-\\vec{z}})$ which returns values in $(0,1)$.\n",
    "- $\\tanh(\\cdot)$ is the hyperbolic tangent, i.e. $\\tanh(\\vec{z}) = (e^{2\\vec{z}}-1)/(e^{2\\vec{z}}+1)$ which returns values in $(-1,1)$.\n",
    "- $\\vec{h_t}^{[k]}$ is the hidden state of layer $k$ at time $t$. This can be thought of as the memory of that layer.\n",
    "- $\\vec{g_t}^{[k]}$ is the candidate hidden state for time $t+1$.\n",
    "- $\\vec{z_t}^{[k]}$ is known as the update gate. It combines the previous state with the input to determine how much the current state will be combined with the new candidate state. For example, if $\\vec{z_t}^{[k]}=\\vec{1}$ then the current input has no effect on the output.\n",
    "- $\\vec{r_t}^{[k]}$ is known as the reset gate. It combines the previous state with the input to determine how much of the previous state will affect the current state candidate. For example if $\\vec{r_t}^{[k]}=\\vec{0}$ the previous state has no effect on the current candidate state."
   ]
  },
  {
   "cell_type": "markdown",
   "metadata": {},
   "source": [
    "Here's a graphical representation of the GRU's forward pass at each timestep. The $\\vec{\\tilde{h}}$ in the image is our $\\vec{g}$ (candidate next state).\n",
    "\n",
    "<img src=\"imgs/gru_cell.png\" width=\"400\"/>\n",
    "\n",
    "You can see how the reset and update gates allow the model to completely ignore it's previous state, completely ignore it's input, or any mixture of those states (since the gates are actually continuous and between $(0,1)$)."
   ]
  },
  {
   "cell_type": "markdown",
   "metadata": {},
   "source": [
    "Here's a graphical representation of the entire model.\n",
    "You can ignore the $c_t^{[k]}$ (cell state) variables (which are relevant for LSTM models).\n",
    "Our model has only the hidden state, $h_t^{[k]}$. Also notice that we added dropout between layers (i.e., on the up arrows).\n",
    "\n",
    "<img src=\"imgs/lstm_model.png\" />\n",
    "\n",
    "The purple tensors are inputs (a sequence and initial hidden state per layer), and the green tensors are outputs (another sequence and final hidden state per layer). Each blue block implements the above forward equations.\n",
    "Blocks that are on the same vertical level are at the same layer, and therefore share parameters."
   ]
  },
  {
   "cell_type": "markdown",
   "metadata": {},
   "source": [
    "**TODO**:implement `MultilayerGRU` class in the `hw3/charnn.py` module.\n",
    "\n",
    "\n",
    "Notes:\n",
    "- We use **batches** now.\n",
    "  The math is identical to the above, but all the tensors will have an extra batch \n",
    "  dimension as their first dimension.\n",
    "- Read the diagram above, try to understand all the dimentions.\n"
   ]
  },
  {
   "cell_type": "code",
   "execution_count": 16,
   "metadata": {},
   "outputs": [
    {
     "name": "stdout",
     "output_type": "stream",
     "text": [
      "MultilayerGRU(\n",
      "  (l0_xz): Linear(in_features=78, out_features=256, bias=True)\n",
      "  (l0_hz): Linear(in_features=256, out_features=256, bias=False)\n",
      "  (l0_xr): Linear(in_features=78, out_features=256, bias=True)\n",
      "  (l0_hr): Linear(in_features=256, out_features=256, bias=False)\n",
      "  (l0_xg): Linear(in_features=78, out_features=256, bias=True)\n",
      "  (l0_hg): Linear(in_features=256, out_features=256, bias=False)\n",
      "  (l1_xz): Linear(in_features=256, out_features=256, bias=True)\n",
      "  (l1_hz): Linear(in_features=256, out_features=256, bias=False)\n",
      "  (l1_xr): Linear(in_features=256, out_features=256, bias=True)\n",
      "  (l1_hr): Linear(in_features=256, out_features=256, bias=False)\n",
      "  (l1_xg): Linear(in_features=256, out_features=256, bias=True)\n",
      "  (l1_hg): Linear(in_features=256, out_features=256, bias=False)\n",
      "  (l2_xz): Linear(in_features=256, out_features=256, bias=True)\n",
      "  (l2_hz): Linear(in_features=256, out_features=256, bias=False)\n",
      "  (l2_xr): Linear(in_features=256, out_features=256, bias=True)\n",
      "  (l2_hr): Linear(in_features=256, out_features=256, bias=False)\n",
      "  (l2_xg): Linear(in_features=256, out_features=256, bias=True)\n",
      "  (l2_hg): Linear(in_features=256, out_features=256, bias=False)\n",
      "  (output_layer): Linear(in_features=256, out_features=78, bias=True)\n",
      ")\n",
      "y.shape=torch.Size([32, 64, 78])\n",
      "h.shape=torch.Size([32, 3, 256])\n"
     ]
    }
   ],
   "source": [
    "in_dim = vocab_len\n",
    "h_dim = 256\n",
    "n_layers = 3\n",
    "model = charnn.MultilayerGRU(in_dim, h_dim, out_dim=in_dim, n_layers=n_layers)\n",
    "model = model.to(device)\n",
    "print(model)\n",
    "\n",
    "# Test forward pass\n",
    "y, h = model(x0.to(dtype=torch.float, device=device))\n",
    "print(f'y.shape={y.shape}')\n",
    "print(f'h.shape={h.shape}')\n",
    "\n",
    "test.assertEqual(y.shape, (batch_size, seq_len, vocab_len))\n",
    "test.assertEqual(h.shape, (batch_size, n_layers, h_dim))\n",
    "test.assertEqual(len(list(model.parameters())), 9 * n_layers + 2) "
   ]
  },
  {
   "cell_type": "markdown",
   "metadata": {},
   "source": [
    "### Generating text by sampling\n",
    "<a id=part1_6></a>"
   ]
  },
  {
   "cell_type": "markdown",
   "metadata": {},
   "source": [
    "Now that we have a model, we can implement **text generation** based on it.\n",
    "The idea is simple:\n",
    "At each timestep our model receives one char $x_t$ from the input sequence and outputs scores $y_t$\n",
    "for what the next char should be.\n",
    "We'll convert these scores into a probability over each of the possible chars.\n",
    "In other words, for each input char $x_t$ we create a probability distribution for the next char\n",
    "conditioned on the current one and the state of the model (representing all previous inputs):\n",
    "$$p(x_{t+1}|x_t, \\vec{h}_t).$$\n",
    "\n",
    "Once we have such a distribution, we'll sample a char from it.\n",
    "This will be the first char of our generated sequence.\n",
    "Now we can feed this new char into the model, create another distribution, sample the next char and so on.\n",
    "Note that it's crucial to propagate the hidden state when sampling."
   ]
  },
  {
   "cell_type": "markdown",
   "metadata": {},
   "source": [
    "The important point however is how to create the distribution from the scores.\n",
    "One way, as we saw in previous ML tasks, is to use the softmax function.\n",
    "However, a drawback of softmax is that it can generate very diffuse (more uniform) distributions if the score values are very similar. When sampling, we would prefer to control the distributions and make them less uniform to increase the chance of sampling the char(s) with the highest scores compared to the others.\n",
    "\n",
    "To control the variance of the distribution, a common trick is to add a hyperparameter $T$, known as the \n",
    "*temperature* to the softmax function. The class scores are simply scaled by $T$ before softmax is applied:\n",
    "$$\n",
    "\\mathrm{softmax}_T(\\vec{y}) = \\frac{e^{\\vec{y}/T}}{\\sum_k e^{y_k/T}}\n",
    "$$\n",
    "\n",
    "A low $T$ will result in less uniform distributions and vice-versa."
   ]
  },
  {
   "cell_type": "markdown",
   "metadata": {},
   "source": [
    "**TODO**: Implement the `hot_softmax()` function in the `hw3/charnn.py` module."
   ]
  },
  {
   "cell_type": "code",
   "execution_count": 17,
   "metadata": {},
   "outputs": [
    {
     "data": {
      "image/png": "[encoded data removed]",
      "text/plain": [
       "<Figure size 1500x500 with 1 Axes>"
      ]
     },
     "metadata": {},
     "output_type": "display_data"
    }
   ],
   "source": [
    "scores = y[0,0,:].detach()\n",
    "_, ax = plt.subplots(figsize=(15,5))\n",
    "\n",
    "for t in reversed([0.3, 0.5, 1.0, 100]):\n",
    "    ax.plot(charnn.hot_softmax(scores, temperature=t).cpu().numpy(), label=f'T={t}')\n",
    "ax.set_xlabel('$x_{t+1}$')\n",
    "ax.set_ylabel('$p(x_{t+1}|x_t)$')\n",
    "ax.legend()\n",
    "\n",
    "uniform_proba = 1/len(char_to_idx)\n",
    "uniform_diff = torch.abs(charnn.hot_softmax(scores, temperature=100) - uniform_proba)\n",
    "test.assertTrue(torch.all(uniform_diff < 1e-4))"
   ]
  },
  {
   "cell_type": "markdown",
   "metadata": {},
   "source": [
    "**TODO**: Implement the `generate_from_model()` function in the `hw3/charnn.py` module."
   ]
  },
  {
   "cell_type": "code",
   "execution_count": 18,
   "metadata": {},
   "outputs": [
    {
     "name": "stdout",
     "output_type": "stream",
     "text": [
      "foobarY(SIf1y)j0Ys3?.eL]Xn)mF4wPlpK13m\n",
      "xr6PyhCX\":(\n",
      "foobarK9LjRTiU-G?tdf(J&9VOq;W6Ub1L-9)JHEwZcc[s8ekD\n",
      "foobar6H[iY6hK6;hgFMzU4WRJ(ZUuRnglg&yapCdLLH2gH5ej\n"
     ]
    }
   ],
   "source": [
    "for _ in range(3):\n",
    "    text = charnn.generate_from_model(model, \"foobar\", 50, (char_to_idx, idx_to_char), T=0.5)\n",
    "    print(text)\n",
    "    test.assertEqual(len(text), 50)"
   ]
  },
  {
   "cell_type": "markdown",
   "metadata": {},
   "source": [
    "### Training\n",
    "<a id=part1_7></a>"
   ]
  },
  {
   "cell_type": "markdown",
   "metadata": {},
   "source": [
    "To train this model, we'll calculate the loss at each time step by comparing the predicted char to\n",
    "the actual char from our label. We can use cross entropy since per char it's similar to a classification problem.\n",
    "We'll then sum the losses over the sequence and back-propagate the gradients though time.\n",
    "Notice that the back-propagation algorithm will \"visit\" each layer's parameter tensors multiple times,\n",
    "so we'll accumulate gradients in parameters of the blocks. Luckily `autograd` will handle this part for us."
   ]
  },
  {
   "cell_type": "markdown",
   "metadata": {},
   "source": [
    "As usual, the first step of training will be to try and **overfit** a large model (many parameters) to a tiny dataset.\n",
    "Again, this is to ensure the model and training code are implemented correctly, i.e. that the model can learn.\n",
    "\n",
    "For a generative model such as this, overfitting is slightly trickier than for classification.\n",
    "What we'll aim to do is to get our model to **memorize** a specific sequence of chars, so that when given the first\n",
    "char in the sequence it will immediately spit out the rest of the sequence verbatim.\n",
    "\n",
    "Let's create a tiny dataset to memorize."
   ]
  },
  {
   "cell_type": "code",
   "execution_count": 19,
   "metadata": {},
   "outputs": [
    {
     "name": "stdout",
     "output_type": "stream",
     "text": [
      "Text to \"memorize\":\n",
      "\n",
      "TRAM. What would you have?\n",
      "  HELENA. Something; and scarce so much; nothing, indeed.\n",
      "    I would not tell you what I would, my lord.\n",
      "    Faith, yes:\n",
      "    Strangers and foes do sunder and not kiss.\n",
      "  BERTRAM. I pray you, stay not, but in haste to horse.\n",
      "  HE\n"
     ]
    }
   ],
   "source": [
    "# Pick a tiny subset of the dataset\n",
    "subset_start, subset_end = 1001, 1005\n",
    "ds_corpus_ss = torch.utils.data.Subset(ds_corpus, range(subset_start, subset_end))\n",
    "batch_size_ss = 1\n",
    "sampler_ss = SequenceBatchSampler(ds_corpus_ss, batch_size=batch_size_ss)\n",
    "dl_corpus_ss = torch.utils.data.DataLoader(ds_corpus_ss, batch_size_ss, sampler=sampler_ss, shuffle=False)\n",
    "\n",
    "# Convert subset to text\n",
    "subset_text = ''\n",
    "for i in range(subset_end - subset_start):\n",
    "    subset_text += unembed(ds_corpus_ss[i][0])\n",
    "print(f'Text to \"memorize\":\\n\\n{subset_text}')"
   ]
  },
  {
   "cell_type": "markdown",
   "metadata": {},
   "source": [
    "Now let's implement the first part of our training code.\n",
    "\n",
    "**TODO**: Implement the `train_epoch()` and `train_batch()` methods of the `RNNTrainer` class in the `hw3/training.py` module. \n",
    "You must think about how to correctly handle the hidden state of the model between batches and epochs for this specific task (i.e. text generation)."
   ]
  },
  {
   "cell_type": "code",
   "execution_count": 40,
   "metadata": {},
   "outputs": [
    {
     "name": "stdout",
     "output_type": "stream",
     "text": [
      "\n",
      "Epoch #1: Avg. loss = 3.940, Accuracy = 17.58%\n",
      "Twn                                               n                                                                                                                                                                                                             \n",
      "\n",
      "Epoch #25: Avg. loss = 0.281, Accuracy = 95.70%\n",
      "TRAM. What would you have?\n",
      "  HELENA. Something; and scarce so much; nothing, indeed.\n",
      "    I would not tell you what I would, would not tell you what I would, stand not kiss.\n",
      "  BERRAM. I pray you, stay not, but in haste to horse.\n",
      "  HELERAM. I pray you, stay \n",
      "\n",
      "Epoch #50: Avg. loss = 0.008, Accuracy = 100.00%\n",
      "TRAM. What would you have?\n",
      "  HELENA. Something; and scarce so much; nothing, indeed.\n",
      "    I would not tell you what I would, my lord.\n",
      "    Faith, yes:\n",
      "    Strangers and foes do sunder and not kiss.\n",
      "  BERTRAM. I pray you, stay not, but in haste to horse.\n",
      "  HE\n"
     ]
    }
   ],
   "source": [
    "import torch.nn as nn\n",
    "import torch.optim as optim\n",
    "from hw3.training import RNNTrainer\n",
    "\n",
    "torch.manual_seed(42)\n",
    "\n",
    "lr = 0.01\n",
    "num_epochs = 500\n",
    "\n",
    "in_dim = vocab_len\n",
    "h_dim = 128\n",
    "n_layers = 2\n",
    "loss_fn = nn.CrossEntropyLoss()\n",
    "model = charnn.MultilayerGRU(in_dim, h_dim, out_dim=in_dim, n_layers=n_layers).to(device)\n",
    "optimizer = optim.Adam(model.parameters(), lr=lr)\n",
    "trainer = RNNTrainer(model, loss_fn, optimizer, device)\n",
    "\n",
    "for epoch in range(num_epochs):\n",
    "    epoch_result = trainer.train_epoch(dl_corpus_ss, verbose=False)\n",
    "    \n",
    "    # Every X epochs, we'll generate a sequence starting from the first char in the first sequence\n",
    "    # to visualize how/if/what the model is learning.\n",
    "    if epoch == 0 or (epoch+1) % 25 == 0:\n",
    "        avg_loss = np.mean(epoch_result.losses)\n",
    "        accuracy = np.mean(epoch_result.accuracy)\n",
    "        print(f'\\nEpoch #{epoch+1}: Avg. loss = {avg_loss:.3f}, Accuracy = {accuracy:.2f}%')\n",
    "        \n",
    "        generated_sequence = charnn.generate_from_model(model, subset_text[0],\n",
    "                                                        seq_len*(subset_end-subset_start),\n",
    "                                                        (char_to_idx,idx_to_char), T=0.1)\n",
    "        \n",
    "        # Stop if we've successfully memorized the small dataset.\n",
    "        print(generated_sequence)\n",
    "        if generated_sequence == subset_text:\n",
    "            break\n",
    "\n",
    "# Test successful overfitting\n",
    "test.assertGreater(epoch_result.accuracy, 99)\n",
    "test.assertEqual(generated_sequence, subset_text)"
   ]
  },
  {
   "cell_type": "markdown",
   "metadata": {},
   "source": [
    "OK, so training works - we can memorize a short sequence.\n",
    "We'll now train a much larger model on our large dataset. You'll need a GPU for this part.\n",
    "\n",
    "First, lets set up our dataset and models for training.\n",
    "We'll split our corpus into 90% train and 10% test-set.\n",
    "Also, we'll use a learning-rate scheduler to control the learning rate during training."
   ]
  },
  {
   "cell_type": "markdown",
   "metadata": {},
   "source": [
    "**TODO**: Set the hyperparameters in the `part1_rnn_hyperparams()` function of the `hw3/answers.py` module."
   ]
  },
  {
   "cell_type": "code",
   "execution_count": 41,
   "metadata": {},
   "outputs": [
    {
     "name": "stdout",
     "output_type": "stream",
     "text": [
      "hyperparams:\n",
      " {'batch_size': 256, 'seq_len': 128, 'h_dim': 512, 'n_layers': 2, 'dropout': 0.125, 'learn_rate': 0.001, 'lr_sched_factor': 0.075, 'lr_sched_patience': 0.8}\n",
      "Train: 174 batches, 5701632 chars\n",
      "Test:   19 batches,  622592 chars\n"
     ]
    },
    {
     "name": "stderr",
     "output_type": "stream",
     "text": [
      "/home/sleemann/.local/share/mamba/envs/cs236781-hw/lib/python3.8/site-packages/torch/utils/data/sampler.py:65: UserWarning: `data_source` argument is not used and will be removed in 2.2.0.You may still have custom implementation that utilizes it.\n",
      "  warnings.warn(\"`data_source` argument is not used and will be removed in 2.2.0.\"\n",
      "/home/sleemann/.local/share/mamba/envs/cs236781-hw/lib/python3.8/site-packages/torch/optim/lr_scheduler.py:60: UserWarning: The verbose parameter is deprecated. Please use get_last_lr() to access the learning rate.\n",
      "  warnings.warn(\n"
     ]
    }
   ],
   "source": [
    "from hw3.answers import part1_rnn_hyperparams\n",
    "\n",
    "hp = part1_rnn_hyperparams()\n",
    "print('hyperparams:\\n', hp)\n",
    "\n",
    "### Dataset definition\n",
    "vocab_len = len(char_to_idx)\n",
    "batch_size = hp['batch_size']\n",
    "seq_len = hp['seq_len']\n",
    "train_test_ratio = 0.9\n",
    "num_samples = (len(corpus) - 1) // seq_len\n",
    "num_train = int(train_test_ratio * num_samples)\n",
    "\n",
    "samples, labels = charnn.chars_to_labelled_samples(corpus, char_to_idx, seq_len, device)\n",
    "\n",
    "ds_train = torch.utils.data.TensorDataset(samples[:num_train], labels[:num_train])\n",
    "sampler_train = SequenceBatchSampler(ds_train, batch_size)\n",
    "dl_train = torch.utils.data.DataLoader(ds_train, batch_size, shuffle=False, sampler=sampler_train, drop_last=True)\n",
    "\n",
    "ds_test = torch.utils.data.TensorDataset(samples[num_train:], labels[num_train:])\n",
    "sampler_test = SequenceBatchSampler(ds_test, batch_size)\n",
    "dl_test = torch.utils.data.DataLoader(ds_test, batch_size, shuffle=False, sampler=sampler_test, drop_last=True)\n",
    "\n",
    "print(f'Train: {len(dl_train):3d} batches, {len(dl_train)*batch_size*seq_len:7d} chars')\n",
    "print(f'Test:  {len(dl_test):3d} batches, {len(dl_test)*batch_size*seq_len:7d} chars')\n",
    "\n",
    "### Training definition\n",
    "in_dim = out_dim = vocab_len\n",
    "checkpoint_file = 'checkpoints/rnn'\n",
    "num_epochs = 50\n",
    "early_stopping = 5\n",
    "\n",
    "model = charnn.MultilayerGRU(in_dim, hp['h_dim'], out_dim, hp['n_layers'], hp['dropout'])\n",
    "loss_fn = nn.CrossEntropyLoss()\n",
    "optimizer = optim.Adam(model.parameters(), lr=hp['learn_rate'])\n",
    "scheduler = optim.lr_scheduler.ReduceLROnPlateau(\n",
    "    optimizer, mode='max', factor=hp['lr_sched_factor'], patience=hp['lr_sched_patience'], verbose=True\n",
    ")\n",
    "trainer = RNNTrainer(model, loss_fn, optimizer, device)"
   ]
  },
  {
   "cell_type": "markdown",
   "metadata": {},
   "source": [
    "The code blocks below will train the model and save checkpoints containing the training state and the best model parameters to a file. This allows you to stop training and resume it later from where you left.\n",
    "\n",
    "Note that you can use the `main.py` script provided within the assignment folder to run this notebook from the command line as if it were a python script by using the `run-nb` subcommand. This allows you to train your model using this notebook without starting jupyter. You can combine this with `srun` or `sbatch` to run the notebook with a GPU on the course servers."
   ]
  },
  {
   "cell_type": "markdown",
   "metadata": {},
   "source": [
    "**TODO**:\n",
    "- Implement the `fit()` method of the `Trainer` class. You can reuse the relevant implementation parts from HW2, but make sure to implement early stopping and checkpoints.\n",
    "- Implement the `test_epoch()` and `test_batch()` methods of the `RNNTrainer` class in the `hw3/training.py` module.\n",
    "- Run the following block to train.\n",
    "- When training is done and you're satisfied with the model's outputs, rename the checkpoint file to `checkpoints/rnn_final.pt`.\n",
    "  This will cause the block to skip training and instead load your saved model when running the homework submission script.\n",
    "  Note that your submission zip file will not include the checkpoint file. This is OK."
   ]
  },
  {
   "cell_type": "code",
   "execution_count": 44,
   "metadata": {},
   "outputs": [
    {
     "name": "stdout",
     "output_type": "stream",
     "text": [
      "ACT I. I my beave that the perience\n",
      "    Whan wark he the priegh comert the and me the oud bute the h\n",
      "--- EPOCH 1/50 ---\n",
      "train_batch (Avg. Loss 1.755, Accuracy 48.6): 100%|██████████████████████████████████████████████████████████████████████| 174/174 [01:12<00:00,  2.40it/s]\n",
      "test_batch (Avg. Loss 1.843, Accuracy 44.8): 100%|█████████████████████████████████████████████████████████████████████████| 19/19 [00:02<00:00,  7.50it/s]\n",
      "*** Saved checkpoint checkpoints/rnn.pt at epoch 1\n",
      "ACT I.\n",
      "  BESTAND. Hear me a senself our the lirth.\n",
      "    But what I me the praute the farthing belove\n",
      "\n",
      "--- EPOCH 2/50 ---\n",
      "train_batch (Avg. Loss 1.520, Accuracy 54.7): 100%|██████████████████████████████████████████████████████████████████████| 174/174 [01:10<00:00,  2.46it/s]\n",
      "test_batch (Avg. Loss 1.677, Accuracy 49.1): 100%|█████████████████████████████████████████████████████████████████████████| 19/19 [00:02<00:00,  7.51it/s]\n",
      "*** Saved checkpoint checkpoints/rnn.pt at epoch 2\n",
      "ACT I. Why, the his care here,\n",
      "                                                                     \n",
      "--- EPOCH 3/50 ---\n",
      "train_batch (Avg. Loss 1.391, Accuracy 58.2): 100%|██████████████████████████████████████████████████████████████████████| 174/174 [01:12<00:00,  2.40it/s]\n",
      "test_batch (Avg. Loss 1.581, Accuracy 51.6): 100%|█████████████████████████████████████████████████████████████████████████| 19/19 [00:02<00:00,  7.51it/s]\n",
      "*** Saved checkpoint checkpoints/rnn.pt at epoch 3\n",
      "ACT I. I know you,\n",
      "                                                                                 \n",
      "--- EPOCH 4/50 ---\n",
      "train_batch (Avg. Loss 1.315, Accuracy 60.1): 100%|██████████████████████████████████████████████████████████████████████| 174/174 [01:14<00:00,  2.33it/s]\n",
      "test_batch (Avg. Loss 1.531, Accuracy 53.0): 100%|█████████████████████████████████████████████████████████████████████████| 19/19 [00:02<00:00,  7.28it/s]\n",
      "*** Saved checkpoint checkpoints/rnn.pt at epoch 4\n",
      "ACT I.\n",
      "                                                                       Exit\n",
      "  CASSANIUS. Here\n",
      "--- EPOCH 5/50 ---\n",
      "train_batch (Avg. Loss 1.264, Accuracy 61.4): 100%|██████████████████████████████████████████████████████████████████████| 174/174 [01:15<00:00,  2.31it/s]\n",
      "test_batch (Avg. Loss 1.496, Accuracy 54.0): 100%|█████████████████████████████████████████████████████████████████████████| 19/19 [00:02<00:00,  7.28it/s]\n",
      "*** Saved checkpoint checkpoints/rnn.pt at epoch 5\n",
      "ACT I. When he is\n",
      "                                                                                Ex\n",
      "--- EPOCH 6/50 ---\n",
      "train_batch (Avg. Loss 1.230, Accuracy 62.2): 100%|██████████████████████████████████████████████████████████████████████| 174/174 [01:15<00:00,  2.31it/s]\n",
      "test_batch (Avg. Loss 1.471, Accuracy 54.7): 100%|█████████████████████████████████████████████████████████████████████████| 19/19 [00:02<00:00,  7.27it/s]\n",
      "*** Saved checkpoint checkpoints/rnn.pt at epoch 6\n",
      "ACT I.\n",
      "  ARMADO. I will be sent it a great conscience and the matter\n",
      "    Than my father comes the wo\n",
      "--- EPOCH 7/50 ---\n",
      "train_batch (Avg. Loss 1.202, Accuracy 63.0): 100%|██████████████████████████████████████████████████████████████████████| 174/174 [01:15<00:00,  2.32it/s]\n",
      "test_batch (Avg. Loss 1.450, Accuracy 55.3): 100%|█████████████████████████████████████████████████████████████████████████| 19/19 [00:02<00:00,  7.25it/s]\n",
      "*** Saved checkpoint checkpoints/rnn.pt at epoch 7\n",
      "ACT I. Sir, I beseech you,\n",
      "     He is one that the King hath sent to see\n",
      "                           \n",
      "--- EPOCH 8/50 ---\n",
      "train_batch (Avg. Loss 1.180, Accuracy 63.5): 100%|██████████████████████████████████████████████████████████████████████| 174/174 [01:11<00:00,  2.44it/s]\n",
      "test_batch (Avg. Loss 1.437, Accuracy 55.6): 100%|█████████████████████████████████████████████████████████████████████████| 19/19 [00:02<00:00,  7.81it/s]\n",
      "*** Saved checkpoint checkpoints/rnn.pt at epoch 8\n",
      "ACT I.\n",
      "                                                                                            E\n",
      "--- EPOCH 9/50 ---\n",
      "train_batch (Avg. Loss 1.160, Accuracy 64.0): 100%|██████████████████████████████████████████████████████████████████████| 174/174 [01:13<00:00,  2.35it/s]\n",
      "test_batch (Avg. Loss 1.422, Accuracy 55.9): 100%|█████████████████████████████████████████████████████████████████████████| 19/19 [00:02<00:00,  7.51it/s]\n",
      "*** Saved checkpoint checkpoints/rnn.pt at epoch 9\n",
      "ACT I.\n",
      "                                                                                        \"\n",
      "  P\n",
      "--- EPOCH 10/50 ---\n",
      "train_batch (Avg. Loss 1.143, Accuracy 64.4): 100%|██████████████████████████████████████████████████████████████████████| 174/174 [01:13<00:00,  2.36it/s]\n",
      "test_batch (Avg. Loss 1.410, Accuracy 56.3): 100%|█████████████████████████████████████████████████████████████████████████| 19/19 [00:02<00:00,  7.52it/s]\n",
      "*** Saved checkpoint checkpoints/rnn.pt at epoch 10\n",
      "ACT I. When he does\n",
      "    I may stand in the deed of fair and lord,\n",
      "    And first the sure mine eyes t\n",
      "--- EPOCH 11/50 ---\n",
      "train_batch (Avg. Loss 1.128, Accuracy 64.8): 100%|██████████████████████████████████████████████████████████████████████| 174/174 [01:11<00:00,  2.43it/s]\n",
      "test_batch (Avg. Loss 1.400, Accuracy 56.6): 100%|█████████████████████████████████████████████████████████████████████████| 19/19 [00:02<00:00,  7.77it/s]\n",
      "*** Saved checkpoint checkpoints/rnn.pt at epoch 11\n",
      "ACT I. Be merry,\n",
      "    That I must needs be won, let me be prepar'd,\n",
      "    And we make more than time in\n",
      "--- EPOCH 12/50 ---\n",
      "train_batch (Avg. Loss 1.114, Accuracy 65.2): 100%|██████████████████████████████████████████████████████████████████████| 174/174 [01:14<00:00,  2.33it/s]\n",
      "test_batch (Avg. Loss 1.395, Accuracy 56.8): 100%|█████████████████████████████████████████████████████████████████████████| 19/19 [00:02<00:00,  7.25it/s]\n",
      "*** Saved checkpoint checkpoints/rnn.pt at epoch 12\n",
      "ACT I. Why, then your consquer\n",
      "    That this is this a murderers; for it is not\n",
      "    To be a daughter\n",
      "--- EPOCH 13/50 ---\n",
      "train_batch (Avg. Loss 1.102, Accuracy 65.5): 100%|██████████████████████████████████████████████████████████████████████| 174/174 [01:10<00:00,  2.48it/s]\n",
      "test_batch (Avg. Loss 1.390, Accuracy 57.0): 100%|█████████████████████████████████████████████████████████████████████████| 19/19 [00:02<00:00,  7.79it/s]\n",
      "*** Saved checkpoint checkpoints/rnn.pt at epoch 13\n",
      "ACT I. SCENE I\n",
      "\n",
      "    Under the house of Warwick, sir, the traitor\n",
      "    And bid it straight and look up\n",
      "--- EPOCH 14/50 ---\n",
      "train_batch (Avg. Loss 1.091, Accuracy 65.8): 100%|██████████████████████████████████████████████████████████████████████| 174/174 [01:10<00:00,  2.45it/s]\n",
      "test_batch (Avg. Loss 1.385, Accuracy 57.1): 100%|█████████████████████████████████████████████████████████████████████████| 19/19 [00:02<00:00,  7.53it/s]\n",
      "*** Saved checkpoint checkpoints/rnn.pt at epoch 14\n",
      "ACT I.\n",
      "                                                                                             \n",
      "--- EPOCH 15/50 ---\n",
      "train_batch (Avg. Loss 1.082, Accuracy 66.0): 100%|██████████████████████████████████████████████████████████████████████| 174/174 [01:12<00:00,  2.39it/s]\n",
      "test_batch (Avg. Loss 1.381, Accuracy 57.3): 100%|█████████████████████████████████████████████████████████████████████████| 19/19 [00:02<00:00,  7.51it/s]\n",
      "*** Saved checkpoint checkpoints/rnn.pt at epoch 15\n",
      "ACT I.\n",
      "                                                                                             \n",
      "--- EPOCH 16/50 ---\n",
      "train_batch (Avg. Loss 1.073, Accuracy 66.3): 100%|██████████████████████████████████████████████████████████████████████| 174/174 [01:12<00:00,  2.40it/s]\n",
      "test_batch (Avg. Loss 1.379, Accuracy 57.5): 100%|█████████████████████████████████████████████████████████████████████████| 19/19 [00:02<00:00,  7.51it/s]\n",
      "*** Saved checkpoint checkpoints/rnn.pt at epoch 16\n",
      "ACT I.\n",
      "  Ham. The man that was the news of sweet and more\n",
      "     Which crown'd with working with the d\n",
      "--- EPOCH 17/50 ---\n",
      "train_batch (Avg. Loss 1.066, Accuracy 66.4): 100%|██████████████████████████████████████████████████████████████████████| 174/174 [01:10<00:00,  2.47it/s]\n",
      "test_batch (Avg. Loss 1.375, Accuracy 57.6): 100%|█████████████████████████████████████████████████████████████████████████| 19/19 [00:02<00:00,  7.81it/s]\n",
      "*** Saved checkpoint checkpoints/rnn.pt at epoch 17\n",
      "ACT I.\n",
      "     The King and Clarence, sweet and troubles,\n",
      "                                             \n",
      "--- EPOCH 18/50 ---\n",
      "train_batch (Avg. Loss 1.057, Accuracy 66.7): 100%|██████████████████████████████████████████████████████████████████████| 174/174 [01:09<00:00,  2.50it/s]\n",
      "test_batch (Avg. Loss 1.374, Accuracy 57.7): 100%|█████████████████████████████████████████████████████████████████████████| 19/19 [00:02<00:00,  7.79it/s]\n",
      "*** Saved checkpoint checkpoints/rnn.pt at epoch 18\n",
      "ACT I.\n",
      "    Where the most welcome to the field,\n",
      "    Being born and subject, but he hath deliver'd,\n",
      " \n",
      "--- EPOCH 19/50 ---\n",
      "train_batch (Avg. Loss 1.048, Accuracy 67.0): 100%|██████████████████████████████████████████████████████████████████████| 174/174 [01:09<00:00,  2.50it/s]\n",
      "test_batch (Avg. Loss 1.371, Accuracy 57.8): 100%|█████████████████████████████████████████████████████████████████████████| 19/19 [00:02<00:00,  7.81it/s]\n",
      "*** Saved checkpoint checkpoints/rnn.pt at epoch 19\n",
      "ACT I. SCENE 1\n",
      "\n",
      "                                                                                    \n",
      "--- EPOCH 20/50 ---\n",
      "train_batch (Avg. Loss 1.039, Accuracy 67.2): 100%|██████████████████████████████████████████████████████████████████████| 174/174 [01:10<00:00,  2.48it/s]\n",
      "test_batch (Avg. Loss 1.371, Accuracy 57.8): 100%|█████████████████████████████████████████████████████████████████████████| 19/19 [00:02<00:00,  7.82it/s]\n",
      "*** Saved checkpoint checkpoints/rnn.pt at epoch 20\n",
      "ACT I.\n",
      "    Good God, forbear him, for I was a word.\n",
      "    My lord, I pray you pardon me, sweet father.\n",
      "--- EPOCH 21/50 ---\n",
      "train_batch (Avg. Loss 1.031, Accuracy 67.5): 100%|██████████████████████████████████████████████████████████████████████| 174/174 [01:12<00:00,  2.40it/s]\n",
      "test_batch (Avg. Loss 1.371, Accuracy 57.9): 100%|█████████████████████████████████████████████████████████████████████████| 19/19 [00:02<00:00,  7.58it/s]\n",
      "*** Saved checkpoint checkpoints/rnn.pt at epoch 21\n",
      "ACT I.\n",
      "  Glou. Well, let us brave me, and the common virtue\n",
      "The sweet rise honour to confess I will \n",
      "--- EPOCH 22/50 ---\n",
      "train_batch (Avg. Loss 1.025, Accuracy 67.6): 100%|██████████████████████████████████████████████████████████████████████| 174/174 [01:12<00:00,  2.40it/s]\n",
      "test_batch (Avg. Loss 1.375, Accuracy 57.9): 100%|█████████████████████████████████████████████████████████████████████████| 19/19 [00:02<00:00,  7.54it/s]\n",
      "*** Saved checkpoint checkpoints/rnn.pt at epoch 22\n",
      "ACT I.\n",
      "    See! I do beseech you will not see the bark.\n",
      "    You are very sure of him that make me sp\n",
      "--- EPOCH 23/50 ---\n",
      "train_batch (Avg. Loss 1.021, Accuracy 67.7): 100%|██████████████████████████████████████████████████████████████████████| 174/174 [01:13<00:00,  2.36it/s]\n",
      "test_batch (Avg. Loss 1.373, Accuracy 58.0): 100%|█████████████████████████████████████████████████████████████████████████| 19/19 [00:02<00:00,  7.26it/s]\n",
      "*** Saved checkpoint checkpoints/rnn.pt at epoch 23\n",
      "ACT I.\n",
      "  Beat. I say the man had had his son. I see the court as they\n",
      "    seems to see his meat in h\n",
      "--- EPOCH 24/50 ---\n",
      "train_batch (Avg. Loss 1.015, Accuracy 67.9): 100%|██████████████████████████████████████████████████████████████████████| 174/174 [01:14<00:00,  2.34it/s]\n",
      "test_batch (Avg. Loss 1.375, Accuracy 58.0): 100%|█████████████████████████████████████████████████████████████████████████| 19/19 [00:02<00:00,  7.27it/s]\n",
      "*** Saved checkpoint checkpoints/rnn.pt at epoch 24\n",
      "ACT I.\n",
      "  GLOUCESTER. A halter would have been to see me then;\n",
      "    For I must teach them more than ma\n",
      "--- EPOCH 25/50 ---\n",
      "train_batch (Avg. Loss 1.008, Accuracy 68.1): 100%|██████████████████████████████████████████████████████████████████████| 174/174 [01:11<00:00,  2.43it/s]\n",
      "test_batch (Avg. Loss 1.371, Accuracy 58.1): 100%|█████████████████████████████████████████████████████████████████████████| 19/19 [00:02<00:00,  7.81it/s]\n",
      "*** Saved checkpoint checkpoints/rnn.pt at epoch 25\n",
      "ACT I.\n",
      "  GONZALO. Thou shalt not think the lord the time.\n",
      "    He hath a patch of my unwillingness to\n",
      "--- EPOCH 26/50 ---\n",
      "train_batch (Avg. Loss 1.001, Accuracy 68.4): 100%|██████████████████████████████████████████████████████████████████████| 174/174 [01:10<00:00,  2.48it/s]\n",
      "test_batch (Avg. Loss 1.369, Accuracy 58.2): 100%|█████████████████████████████████████████████████████████████████████████| 19/19 [00:02<00:00,  7.18it/s]\n",
      "*** Saved checkpoint checkpoints/rnn.pt at epoch 26\n",
      "ACT I. Scene I know the\n",
      "    pence of the casket, then the fool that would have them been a\n",
      "    fool \n",
      "--- EPOCH 27/50 ---\n",
      "train_batch (Avg. Loss 0.995, Accuracy 68.5): 100%|██████████████████████████████████████████████████████████████████████| 174/174 [01:10<00:00,  2.48it/s]\n",
      "test_batch (Avg. Loss 1.374, Accuracy 58.1): 100%|█████████████████████████████████████████████████████████████████████████| 19/19 [00:02<00:00,  7.80it/s]\n",
      "ACT I.\n",
      "SCENE I.\n",
      "The court of Athens\n",
      "\n",
      "Enter the DUKE OF BURGUNDY and CLOWN\n",
      "\n",
      "  COUNTESS. Fair lord, I \n",
      "--- EPOCH 28/50 ---\n",
      "train_batch (Avg. Loss 0.967, Accuracy 69.3): 100%|██████████████████████████████████████████████████████████████████████| 174/174 [01:09<00:00,  2.50it/s]\n",
      "test_batch (Avg. Loss 1.342, Accuracy 59.1): 100%|█████████████████████████████████████████████████████████████████████████| 19/19 [00:02<00:00,  7.82it/s]\n",
      "*** Saved checkpoint checkpoints/rnn.pt at epoch 28\n",
      "ACT I. She's dead, and ask him who\n",
      "    he is by a sixth or a man as well as any man and most bold, a\n",
      "--- EPOCH 29/50 ---\n",
      "train_batch (Avg. Loss 0.955, Accuracy 69.7): 100%|██████████████████████████████████████████████████████████████████████| 174/174 [01:09<00:00,  2.50it/s]\n",
      "test_batch (Avg. Loss 1.344, Accuracy 59.1): 100%|█████████████████████████████████████████████████████████████████████████| 19/19 [00:02<00:00,  7.81it/s]\n",
      "*** Saved checkpoint checkpoints/rnn.pt at epoch 29\n",
      "ACT I.\n",
      "    Gentlemen, what news?\n",
      "    Say that the Lady Cressid is a man\n",
      "    That would have been so \n",
      "--- EPOCH 30/50 ---\n",
      "train_batch (Avg. Loss 0.952, Accuracy 69.9): 100%|██████████████████████████████████████████████████████████████████████| 174/174 [01:11<00:00,  2.45it/s]\n",
      "test_batch (Avg. Loss 1.344, Accuracy 59.1): 100%|█████████████████████████████████████████████████████████████████████████| 19/19 [00:02<00:00,  7.82it/s]\n",
      "*** Saved checkpoint checkpoints/rnn.pt at epoch 30\n",
      "ACT I.\n",
      "LUCULLUS' House\n",
      "\n",
      "Flourish of the DUKE OF YORK, and the BISHOP OF ELY\n",
      "\n",
      "  ROSALIND. By the Duke\n",
      "--- EPOCH 31/50 ---\n",
      "train_batch (Avg. Loss 0.946, Accuracy 70.0): 100%|██████████████████████████████████████████████████████████████████████| 174/174 [01:09<00:00,  2.49it/s]\n",
      "test_batch (Avg. Loss 1.342, Accuracy 59.2): 100%|█████████████████████████████████████████████████████████████████████████| 19/19 [00:02<00:00,  7.27it/s]\n",
      "*** Saved checkpoint checkpoints/rnn.pt at epoch 31\n",
      "ACT I.\n",
      "  GENTLEMAN. The letter will be perfect.\n",
      "  CLEOPATRA. I'll do't.\n",
      "  SECOND GENTLEMAN. What, si\n",
      "--- EPOCH 32/50 ---\n",
      "train_batch (Avg. Loss 0.945, Accuracy 70.1): 100%|██████████████████████████████████████████████████████████████████████| 174/174 [01:10<00:00,  2.47it/s]\n",
      "test_batch (Avg. Loss 1.342, Accuracy 59.2): 100%|█████████████████████████████████████████████████████████████████████████| 19/19 [00:02<00:00,  7.81it/s]\n",
      "*** Saved checkpoint checkpoints/rnn.pt at epoch 32\n",
      "ACT I.\n",
      "  DUKE. Now, sir, here is no more he looks for him.\n",
      "    I have told them to speak of me. I se\n",
      "--- EPOCH 33/50 ---\n",
      "train_batch (Avg. Loss 0.945, Accuracy 70.1): 100%|██████████████████████████████████████████████████████████████████████| 174/174 [01:09<00:00,  2.50it/s]\n",
      "test_batch (Avg. Loss 1.341, Accuracy 59.2): 100%|█████████████████████████████████████████████████████████████████████████| 19/19 [00:02<00:00,  7.82it/s]\n",
      "*** Saved checkpoint checkpoints/rnn.pt at epoch 33\n",
      "ACT I. Scene I\n",
      "    here put them on the cup of sack, and make him a fool a man\n",
      "    of a second count\n",
      "--- EPOCH 34/50 ---\n",
      "train_batch (Avg. Loss 0.945, Accuracy 70.1): 100%|██████████████████████████████████████████████████████████████████████| 174/174 [01:09<00:00,  2.49it/s]\n",
      "test_batch (Avg. Loss 1.341, Accuracy 59.2): 100%|█████████████████████████████████████████████████████████████████████████| 19/19 [00:02<00:00,  7.50it/s]\n",
      "*** Saved checkpoint checkpoints/rnn.pt at epoch 34\n",
      "ACT I.\n",
      "  LAUNCELOT. For my part, I would thou wilt be an old traitor.\n",
      "    March on, or else my soul \n",
      "--- EPOCH 35/50 ---\n",
      "train_batch (Avg. Loss 0.944, Accuracy 70.1): 100%|██████████████████████████████████████████████████████████████████████| 174/174 [01:13<00:00,  2.36it/s]\n",
      "test_batch (Avg. Loss 1.341, Accuracy 59.2): 100%|█████████████████████████████████████████████████████████████████████████| 19/19 [00:02<00:00,  7.26it/s]\n",
      "*** Saved checkpoint checkpoints/rnn.pt at epoch 35\n",
      "ACT I.\n",
      "  Gent. Not so, my lord.\n",
      "  Lear. What, man, my lord?\n",
      "  Corn. He is delivered of the chamber.\n",
      "\n",
      "--- EPOCH 36/50 ---\n",
      "train_batch (Avg. Loss 0.944, Accuracy 70.1): 100%|██████████████████████████████████████████████████████████████████████| 174/174 [01:13<00:00,  2.36it/s]\n",
      "test_batch (Avg. Loss 1.341, Accuracy 59.2): 100%|█████████████████████████████████████████████████████████████████████████| 19/19 [00:02<00:00,  7.47it/s]\n",
      "ACT I.\n",
      "  King. I do repent me for the world to seek\n",
      "    And let me have you leave to speak with me.\n",
      "\n",
      "--- EPOCH 37/50 ---\n",
      "train_batch (Avg. Loss 0.944, Accuracy 70.1): 100%|██████████████████████████████████████████████████████████████████████| 174/174 [01:13<00:00,  2.37it/s]\n",
      "test_batch (Avg. Loss 1.341, Accuracy 59.2): 100%|█████████████████████████████████████████████████████████████████████████| 19/19 [00:02<00:00,  7.25it/s]\n",
      "ACT I. SCENE 1\n",
      "\n",
      "\n",
      "And other Athen, and to the palace. A street\n",
      "\n",
      "Enter LUCIONA, with CAPTAINS and sold\n",
      "--- EPOCH 38/50 ---\n",
      "train_batch (Avg. Loss 0.944, Accuracy 70.1): 100%|██████████████████████████████████████████████████████████████████████| 174/174 [01:15<00:00,  2.32it/s]\n",
      "test_batch (Avg. Loss 1.341, Accuracy 59.2): 100%|█████████████████████████████████████████████████████████████████████████| 19/19 [00:02<00:00,  7.24it/s]\n",
      "ACT I.\n",
      "  GLOUCESTER. If the best time of war, sir, were he done,\n",
      "    There's nothing but a sorerone \n",
      "--- EPOCH 39/50 ---\n",
      "train_batch (Avg. Loss 0.944, Accuracy 70.1): 100%|██████████████████████████████████████████████████████████████████████| 174/174 [01:15<00:00,  2.31it/s]\n",
      "test_batch (Avg. Loss 1.341, Accuracy 59.2): 100%|█████████████████████████████████████████████████████████████████████████| 19/19 [00:02<00:00,  7.28it/s]\n",
      "ACT I.\n",
      "  Gent. I am not to be right. The handkerchief-\n",
      "  Lear. I will not speak with you. Do you not\n",
      "--- EPOCH 40/50 ---\n",
      "train_batch (Avg. Loss 0.944, Accuracy 70.1): 100%|██████████████████████████████████████████████████████████████████████| 174/174 [01:15<00:00,  2.32it/s]\n",
      "test_batch (Avg. Loss 1.341, Accuracy 59.2): 100%|█████████████████████████████████████████████████████████████████████████| 19/19 [00:02<00:00,  7.29it/s]\n"
     ]
    },
    {
     "data": {
      "image/png": "[encoded data removed]",
      "text/plain": [
       "<Figure size 1600x1000 with 4 Axes>"
      ]
     },
     "metadata": {},
     "output_type": "display_data"
    }
   ],
   "source": [
    "from cs236781.plot import plot_fit\n",
    "\n",
    "def post_epoch_fn(epoch, train_res, test_res, verbose):\n",
    "    # Update learning rate\n",
    "    scheduler.step(test_res.accuracy)\n",
    "    # Sample from model to show progress\n",
    "    if verbose:\n",
    "        start_seq = \"ACT I.\"\n",
    "        generated_sequence = charnn.generate_from_model(\n",
    "            model, start_seq, 100, (char_to_idx,idx_to_char), T=0.5\n",
    "        )\n",
    "        print(generated_sequence)\n",
    "\n",
    "# Train, unless final checkpoint is found\n",
    "checkpoint_file_final = f'{checkpoint_file}_final.pt'\n",
    "if os.path.isfile(checkpoint_file_final):\n",
    "    print(f'*** Loading final checkpoint file {checkpoint_file_final} instead of training')\n",
    "    saved_state = torch.load(checkpoint_file_final, map_location=device)\n",
    "    model.load_state_dict(saved_state['model_state'])\n",
    "else:\n",
    "    try:\n",
    "        # Print pre-training sampling\n",
    "        print(charnn.generate_from_model(model, \"ACT I.\", 100, (char_to_idx,idx_to_char), T=0.5))\n",
    "\n",
    "        fit_res = trainer.fit(dl_train, dl_test, num_epochs, max_batches=None,\n",
    "                              post_epoch_fn=post_epoch_fn, early_stopping=early_stopping,\n",
    "                              checkpoints=checkpoint_file, print_every=1)\n",
    "        \n",
    "        fig, axes = plot_fit(fit_res)\n",
    "    except KeyboardInterrupt as e:\n",
    "        print('\\n *** Training interrupted by user')"
   ]
  },
  {
   "cell_type": "markdown",
   "metadata": {},
   "source": [
    "### Generating a work of art\n",
    "<a id=part1_8></a>"
   ]
  },
  {
   "cell_type": "markdown",
   "metadata": {},
   "source": [
    "Armed with our fully trained model, let's generate the next Hamlet! You should experiment with modifying the sampling temperature and see what happens.\n",
    "\n",
    "The text you generate should “look” like a Shakespeare play:\n",
    "old-style English words and sentence structure, directions for the actors\n",
    "(like “Exit/Enter”), sections (Act I/Scene III) etc.\n",
    "There will be no coherent plot of course, but it should at least seem like\n",
    "a Shakespearean play when not looking too closely.\n",
    "If this is not what you see, go back, debug and/or and re-train.\n",
    "\n",
    "**TODO**: Specify the generation parameters in the `part1_generation_params()` function within the `hw3/answers.py` module."
   ]
  },
  {
   "cell_type": "code",
   "execution_count": 47,
   "metadata": {},
   "outputs": [
    {
     "name": "stdout",
     "output_type": "stream",
     "text": [
      "ACT I. SCENE 1R\n",
      "\n",
      "                            MARDIAN af an all\n",
      "    Didst thou not stand this precept. O, what say you?\n",
      "    Why, though thou speak'st with thy thoughts to me,\n",
      "    That when the heavens do life and have receiv'd,\n",
      "    Be thou and in the court of this a play to our dearest,\n",
      "    That ever we proclaim your griefs, is company.  \n",
      "    Go to, to th' crown, and grant me with a grave\n",
      "    To speak so sure they think how much I have\n",
      "    Not with some tender kingdom to the state.\n",
      "    O Majesty, this current of great Archbishop!\n",
      "  DUKE. I pray you, sir, to make great boys that you are\n",
      "    To your husband's nose, and the world is point,\n",
      "    Lest you shall see the Cardinal's dear daughter.\n",
      "    Bring me with me to cure it, and these honours\n",
      "    I shall not be but as your father's breast;\n",
      "    And so I think is dead, and not a creature\n",
      "    And to the raging ere is led by him\n",
      "    That in his head and necessary offer'd life,\n",
      "    That ever too his country, but one field,\n",
      "    Her chain is elembited and given it thus.\n",
      "    Methought the east can do me strange your head\n",
      "    That can live on a mile so nails with me.\n",
      "    Put up the morning's dooms and need of him,\n",
      "    And he will seem to be afraid of France.\n",
      "    Twixe is my mother's ass is much beseeming men.\n",
      "    If that the heavens be vanished in proof;\n",
      "    And so, if they do soften but a little,\n",
      "    Shall see the infant branding of a man\n",
      "    In this world' brow, and light there all the name\n",
      "    In the event of Tunis, and revenge it.\n",
      "    Arrogable my entertainment from him,\n",
      "    Such strength will study them again of heaven,\n",
      "    The unnatural soul of England's son,\n",
      "    Will I never trust the very way thereof  \n",
      "    That he is dead; and why, the play's the wings\n",
      "    That last through murder, and his soul, a voice\n",
      "    That made her headlong stoop'd at their attempt\n",
      "    As they have done a maid.'\n",
      "  CASSIO. Madam, my lord.\n",
      "  CAESAR. But here is Caesar that we have already in\n",
      "    Regan.\n",
      "  PROSPERO. My lord, your ciciture inches to you\n",
      "    My state is very honest; and you are a\n",
      "    drunken of them, and as a man of fire and the poor child; 'twas no\n",
      "    longer than the gentleman. For this to you all,\n",
      "    but one day of a word.\n",
      "  Bene. Is he bring thee to be too free and most reputation?\n",
      "     whipt so indeed; and that methought he be another which\n",
      "    the commonwealth to have wish'd him his new hell.\n",
      "    [Sings] Sir, she speaks there, whose sand knows the ancient soldiers. I\n",
      "     is he is in evening of a poor and uncozereasure for the\n",
      "    choice of the sun-beaded with a foul and scorn and make it\n",
      "    deep proper ballad of better than he shall never carry me.\n",
      "  SIR TOBY. What should be the fool?\n",
      "  EVANS. This same general, sir. Do you think I am a Roman? I\n",
      "    call hear I in no better word withal. I did not think the rest\n",
      "    talk with him. They should be made of the bark of a maid when I\n",
      "    wonder of it.\n",
      "  FIRST CITIZEN. You have the warlike window of madness, sir; we will\n",
      "    fall on his beard with the Duke of Gloucester, a dumb sir;\n",
      "    And the gods have not some hated service to speak of the city\n",
      "    conveyance, that I have the friend, from the streets, and the players\n",
      "    combined their own cheeks and where he bow a reason put this with us\n",
      "    relief. I hear him win-born to draw my heart.\n",
      "  CLOWN. Alas, my lord, what makes me the midnight wears his face?\n",
      "  MOTH. The Count Rousillon and his captain in my gait to the battle,\n",
      "    and here an ape of women, and not as a last of the sea\n",
      "    mankind in the knavery, who will be set up that they could not\n",
      "    cried 'God save the chamber--in; who was not so much as to\n",
      "    proceed.\n",
      "  Ham. What, I think, with all the foul pounded on't?\n",
      "  Rom. My lord, I do beseech you, with a word or two\n",
      "      discarded.\n",
      "  Bene. God send you this fair? Anon, the King's friend?\n",
      "  Oph. You have ta'en thy sake.\n",
      "  Mer. True, my good lord, there is a thing to come a little trade.  \n",
      "  Prince. I thank her for your brother; the sinen of that was the brawl truth\n",
      "    Sleeps will make his garment of his head by th' war.\n",
      "  Balth. O virtuous half, they shall change qualifies;\n",
      "    For he would shake it with his cheeks; and told me\n",
      "    To one that goes to pieces.\n",
      "  ANTONIO. Ready, madam; there is no more best knit him.\n",
      "    I am the fairest heart of her unto your\n",
      "    question-a man of character, I will render you the great saint.\n",
      "  PRINCESS OF FRANCE. She takes from such than all his name, and, in\n",
      "    the third of a man.\n",
      "  FIRST SOLDIER. Amen.\n",
      "  PAROLLES. Let it be the man to chide you no means withal\n",
      "    the fall of it. Thou art like so long. There's no rogue. I think it\n",
      "    will be suspected.\n",
      "  CLOWN. Why, I will compel in their fingers. This is the ill that hath\n",
      "    done there with a weary one.\n",
      "  FORD. He that are full of madam.\n",
      "  HOLOFERNES. What a discip, sir, good!\n",
      "  BARDOLPH. Well, my lord, in the persons of the wars.\n",
      "  PANDARUS. For the most dear fellows.\n",
      "                                                       Exit PAGE\n",
      "    What is your will? Is she not mad?\n",
      "  Rom. She hath not letter to anon,\n",
      "    And chiefly afterwards make me with his soul.\n",
      "    This composition comes to be a pleasure.\n",
      "    The little tongue seems so the world- they say,\n",
      "    Which even or compliteth is not said 'Ay.'\n",
      "    Is this a good devised suit which calls?\n",
      "    I will not do, it stands me so as strong\n",
      "    To tell them that my death shall make my length.\n",
      "    'A shall be still and down before thy hands,\n",
      "    And made your father on with our people\n",
      "    And sent him for a hundred plain; and by\n",
      "    To send from his particular fast; and now\n",
      "    The art of heavenly hurries' children's power.\n",
      "    And as I think, seems to again understands\n",
      "    And crush where is a shameful consent of the villain's\n",
      "    As stepled with the visor.\n",
      "  PISANIO. Marry, and surfeit, sir, we shall remove,\n",
      "    And the great queen will bear the hour of meat;\n",
      "    The summer flattery the deward of France,\n",
      "    In kind of idle plays, yet shall I say\n",
      "    I would not fight contention with a fool.\n",
      "  KING HENRY. And I with street, whose duty be a son;\n",
      "    The canker doth become the truth for ever.\n",
      "    The very goodly spirit is not so by thee.\n",
      "    And then to you he reads me now to me,\n",
      "    My mind is past the princely time of law.\n",
      "    We have been cold and honourable for thee,\n",
      "    Nor wish some fouler than my sword to sorry\n",
      "    Than all these palms that speak to thee.\n",
      "  PORTIA. What, will you not see me? Well, I have slender'd,\n",
      "    So slain as I have wept to words a woman\n",
      "    That all the signs in passion, and to say,\n",
      "    But now we would believe that thou hast him'-\n",
      "    What say you that I love thee from the world?\n",
      "    Thy lady had not been in conjuration.\n",
      "    There is a piece of war, to strike so bright,\n",
      "    Thou wilt confess to steal away thy face,\n",
      "    Ramn'd by the sword and vantage, the bear aloud,\n",
      "    Till the first fire or holiday dare sing.\n",
      "    The times are like to marry and new power;\n",
      "    I will not be advis'd my father's power,\n",
      "    Which made him strain'd into some substance,\n",
      "    To sing so many gracious mouth for me.\n",
      "    Here's no more music. There is no man I stand\n",
      "    Thy eyes that we may win this sight of late,  \n",
      "    That young man doth this match-sick still in earth,\n",
      "    And pray the less. Away with him away!                 Exit\n",
      "\n",
      "SCENE II.\n",
      "The park\n",
      "\n",
      "Enter the EARL of TOUCHSTONE and LADIES\n",
      "\n",
      "  GLOUCESTER. Hear not thy lord;\n",
      "    And there the County shall be so by tedious.\n",
      "\n",
      "                     Enter AGHEM\n",
      "\n",
      "    How now, my lord?\n",
      "  LEONTES. You cannot, sir, I know not what.\n",
      "  DIANA. Now, by my life, no more!\n",
      "  OTHELLO.                                     He hath a prince,\n",
      "    Then the patricians are dispos'd to make.\n",
      "  ANTONIO. Here, sir; I will not hear it as a company\n",
      "    Of this of that which hath past here! She did\n",
      "    Derive to guard at most inconstant than\n",
      "    She was not so extempore.\n",
      "  CHARLES. What say you no?\n",
      "  ADRIAN. Five like men are not guilty.\n",
      "  ROSALINE. What's the news with you? Is the news or no?\n",
      "  APEMANTUS. That is my father craven and finding thee both to say\n",
      "    anything to say- a doting short shadow- a weak neglecty time.\n",
      "  CLOWN. O thou strike up, the Duke is never a time that you are wearing thee,\n",
      "    thou hast a spot of love- not for any barren fool; and I must strike\n",
      "    him. You know me.\n",
      "  FALSTAFF. Boy, she says, an you cannot help me for a hope afief to perform of\n",
      "    the tune of the forest, that have a sea-coast a purse\n",
      "    of my wealth rids with him; I have no banish'd Marcius in a\n",
      "    process.\n",
      "  ORLANDO. I will do this hand.\n",
      "  SLENDER. I have a horse will have it.\n",
      "  POSTHUMUS. Where's the name of Pull?\n",
      "  PAGE. Now the gods give her an end the sheets.\n",
      "                                                   Exeunt PERBY\n",
      "    How now, my lords?\n",
      "  PORTIA. Ay, and my prayers are in every roar,\n",
      "    And keep him like a chair. He came into myself.\n",
      "    The forest in his service is asheditation\n",
      "    That when the which he shall be much deserved.\n",
      "    When I have been the gentle hearts succeeds\n",
      "    To be a paper here of our works, and I,\n",
      "    I never had gone to your enemies,\n",
      "    And all things did for the place which can make\n",
      "    The people and the eyes of honour newly\n",
      "    Made seen to th' gentleman, and so much welcome,\n",
      "    And heavy and the beads are parties up,\n",
      "    And butcher things be made upon your grief,\n",
      "    That we will strike her brave and realm. Therefore,\n",
      "    Of all the vengeance of a sword unfrom\n",
      "    A most proportion'd tongue of any such\n",
      "    To lay the partners of their weariest warlike\n",
      "    Weak tenant of your brother. There is spent.\n",
      "    It is the foolish interest of your heart,\n",
      "    For I myself do wear this new wedding gods,\n",
      "    And the fear of the town of day be present\n",
      "    For me and looking on to more with sighs\n",
      "    Where the word of his duty be so sweet,\n",
      "    And look'd our strength of light. Come, come, in sight!\n",
      "    But I will have no worse accuse myself\n",
      "    If you were better than his bloody prince,\n",
      "    That like a king, have made a false to him.\n",
      "    'Tis like I could do this, with all my wars\n"
     ]
    }
   ],
   "source": [
    "from hw3.answers import part1_generation_params\n",
    "\n",
    "start_seq, temperature = part1_generation_params()\n",
    "\n",
    "generated_sequence = charnn.generate_from_model(\n",
    "    model, start_seq, 10000, (char_to_idx,idx_to_char), T=temperature\n",
    ")\n",
    "\n",
    "print(generated_sequence)"
   ]
  },
  {
   "cell_type": "markdown",
   "metadata": {},
   "source": [
    "## Questions\n",
    "<a id=part1_9></a>"
   ]
  },
  {
   "cell_type": "markdown",
   "metadata": {},
   "source": [
    "**TODO** Answer the following questions. Write your answers in the appropriate variables in the module `hw3/answers.py`."
   ]
  },
  {
   "cell_type": "code",
   "execution_count": 1,
   "metadata": {},
   "outputs": [],
   "source": [
    "from cs236781.answers import display_answer\n",
    "import hw3.answers"
   ]
  },
  {
   "cell_type": "markdown",
   "metadata": {},
   "source": [
    "### Question 1\n",
    "Why do we split the corpus into sequences instead of training on the whole text?"
   ]
  },
  {
   "cell_type": "code",
   "execution_count": 2,
   "metadata": {},
   "outputs": [
    {
     "data": {
      "text/markdown": [
       "\n",
       "We split the corpus into sequences instead of training on the whole text to improve memory efficiency, enable batch processing, and stabilize gradients.\n",
       "Shorter sequences help the model learn local patterns effectively while avoiding issues like vanishing gradients.\n",
       "This also speeds up training and better reflects real-world text processing scenarios.\n"
      ],
      "text/plain": [
       "<IPython.core.display.Markdown object>"
      ]
     },
     "metadata": {},
     "output_type": "display_data"
    }
   ],
   "source": [
    "display_answer(hw3.answers.part1_q1)"
   ]
  },
  {
   "cell_type": "markdown",
   "metadata": {},
   "source": [
    "### Question 2\n",
    "How is it possible that the generated text clearly shows memory longer than the sequence length?"
   ]
  },
  {
   "cell_type": "code",
   "execution_count": 3,
   "metadata": {},
   "outputs": [
    {
     "data": {
      "text/markdown": [
       "\n",
       "**Your answer:**\n",
       "RNN models retain memory through their hidden state, which gets updated at each training step.\n",
       "The model predicts the next character using both the hidden state and the last character as input, allowing it to carry information across steps.\n",
       "Due to its recurrent nature, it can generate sequences of any length.\n",
       "However, since it is trained on fixed-length sequences, coherence may diminish over time.\n"
      ],
      "text/plain": [
       "<IPython.core.display.Markdown object>"
      ]
     },
     "metadata": {},
     "output_type": "display_data"
    }
   ],
   "source": [
    "display_answer(hw3.answers.part1_q2)"
   ]
  },
  {
   "cell_type": "markdown",
   "metadata": {},
   "source": [
    "### Question 3\n",
    "Why are we not shuffling the order of batches when training?"
   ]
  },
  {
   "cell_type": "code",
   "execution_count": 4,
   "metadata": {},
   "outputs": [
    {
     "data": {
      "text/markdown": [
       "\n",
       "**Your answer:**\n",
       "We do not shuffle batches during training to maintain the sequential structure of the text.\n",
       "This ensures that the model preserves context and learns long-term dependencies effectively.\n",
       "Shuffling would break continuity, disrupting hidden states and making it harder for the model to generate coherent text.\n",
       "\n"
      ],
      "text/plain": [
       "<IPython.core.display.Markdown object>"
      ]
     },
     "metadata": {},
     "output_type": "display_data"
    }
   ],
   "source": [
    "display_answer(hw3.answers.part1_q3)"
   ]
  },
  {
   "cell_type": "markdown",
   "metadata": {},
   "source": [
    "### Question 4\n",
    "1. Why do we lower the temperature for sampling (compared to the default of $1.0$)?\n",
    "2. What happens when the temperature is very high and why?\n",
    "3. What happens when the temperature is very low and why?"
   ]
  },
  {
   "cell_type": "code",
   "execution_count": 5,
   "metadata": {},
   "outputs": [
    {
     "data": {
      "text/markdown": [
       "\n",
       "**Your answer:**\n",
       "Why do we lower the temperature for sampling (compared to the default of 1.0)?\n",
       "\n",
       "Lowering the temperature reduces randomness in the model's output, making it more deterministic.\n",
       "This is useful when we desire more predictable and coherent text generation. \n",
       "\n",
       "What happens when the temperature is very high and why?\n",
       "\n",
       "At very high temperatures, the model's output becomes more random because the probability distribution over possible next tokens flattens.\n",
       "This leads to more diverse but potentially less coherent text. \n",
       "\n",
       "What happens when the temperature is very low and why?\n",
       "\n",
       "With very low temperatures, the model becomes highly deterministic, often choosing the most probable next token.\n",
       "This can result in repetitive and less creative text, as the model is less likely to explore alternative word choices. \n",
       "\n"
      ],
      "text/plain": [
       "<IPython.core.display.Markdown object>"
      ]
     },
     "metadata": {},
     "output_type": "display_data"
    }
   ],
   "source": [
    "display_answer(hw3.answers.part1_q4)"
   ]
  }
 ],
 "metadata": {
  "kernelspec": {
   "display_name": "Python 3 (ipykernel)",
   "language": "python",
   "name": "python3"
  },
  "language_info": {
   "codemirror_mode": {
    "name": "ipython",
    "version": 3
   },
   "file_extension": ".py",
   "mimetype": "text/x-python",
   "name": "python",
   "nbconvert_exporter": "python",
   "pygments_lexer": "ipython3",
   "version": "3.8.20"
  }
 },
 "nbformat": 4,
 "nbformat_minor": 4
}
